{
 "cells": [
  {
   "cell_type": "code",
   "execution_count": 1,
   "id": "b9a71146",
   "metadata": {},
   "outputs": [
    {
     "data": {
      "text/html": [
       "<div>\n",
       "<style scoped>\n",
       "    .dataframe tbody tr th:only-of-type {\n",
       "        vertical-align: middle;\n",
       "    }\n",
       "\n",
       "    .dataframe tbody tr th {\n",
       "        vertical-align: top;\n",
       "    }\n",
       "\n",
       "    .dataframe thead th {\n",
       "        text-align: right;\n",
       "    }\n",
       "</style>\n",
       "<table border=\"1\" class=\"dataframe\">\n",
       "  <thead>\n",
       "    <tr style=\"text-align: right;\">\n",
       "      <th></th>\n",
       "      <th>title</th>\n",
       "      <th>domain</th>\n",
       "      <th>input</th>\n",
       "      <th>summary1</th>\n",
       "      <th>story</th>\n",
       "    </tr>\n",
       "  </thead>\n",
       "  <tbody>\n",
       "    <tr>\n",
       "      <th>0</th>\n",
       "      <td>MELON: Indirect Prompt Injection Defense via M...</td>\n",
       "      <td>space exploration</td>\n",
       "      <td>MELON: Indirect Prompt Injection Defense via\\n...</td>\n",
       "      <td>General attacks (Naihin et al., 2023; Ruan et ...</td>\n",
       "      <td>In the bustling city of New York, there lived ...</td>\n",
       "    </tr>\n",
       "    <tr>\n",
       "      <th>1</th>\n",
       "      <td>Scaling up Test-Time Compute with Latent Reaso...</td>\n",
       "      <td>space exploration</td>\n",
       "      <td>Scaling up Test-Time Compute with Latent Reaso...</td>\n",
       "      <td>3. Recurrent Depth Architecture We propose a n...</td>\n",
       "      <td>In the charming town of Serendipity, lived a c...</td>\n",
       "    </tr>\n",
       "    <tr>\n",
       "      <th>2</th>\n",
       "      <td>Flopping for FLOPs: Leveraging equivariance fo...</td>\n",
       "      <td>space exploration</td>\n",
       "      <td>Flopping for FLOPs: Leveraging equivariance fo...</td>\n",
       "      <td>2.2. Equivariant networks for other input type...</td>\n",
       "      <td>Once upon a time in the bustling city of Neurv...</td>\n",
       "    </tr>\n",
       "    <tr>\n",
       "      <th>3</th>\n",
       "      <td>Nonlocal perimeters and variations: Extremalit...</td>\n",
       "      <td>space exploration</td>\n",
       "      <td>Nonlocal perimeters and variations: Extremalit...</td>\n",
       "      <td>In particular, the extreme points of the TV-ba...</td>\n",
       "      <td>Once upon a time, in a small village nestled b...</td>\n",
       "    </tr>\n",
       "    <tr>\n",
       "      <th>4</th>\n",
       "      <td>Mass-Optimal Low-Thrust Forced Periodic Trajec...</td>\n",
       "      <td>space exploration</td>\n",
       "      <td>(Preprint) AAS 25-153\\nMASS-OPTIMAL LOW-THRUST...</td>\n",
       "      <td>The solution to this problem is a trajectory t...</td>\n",
       "      <td>In the heart of a bustling space station, Dr. ...</td>\n",
       "    </tr>\n",
       "  </tbody>\n",
       "</table>\n",
       "</div>"
      ],
      "text/plain": [
       "                                               title             domain  \\\n",
       "0  MELON: Indirect Prompt Injection Defense via M...  space exploration   \n",
       "1  Scaling up Test-Time Compute with Latent Reaso...  space exploration   \n",
       "2  Flopping for FLOPs: Leveraging equivariance fo...  space exploration   \n",
       "3  Nonlocal perimeters and variations: Extremalit...  space exploration   \n",
       "4  Mass-Optimal Low-Thrust Forced Periodic Trajec...  space exploration   \n",
       "\n",
       "                                               input  \\\n",
       "0  MELON: Indirect Prompt Injection Defense via\\n...   \n",
       "1  Scaling up Test-Time Compute with Latent Reaso...   \n",
       "2  Flopping for FLOPs: Leveraging equivariance fo...   \n",
       "3  Nonlocal perimeters and variations: Extremalit...   \n",
       "4  (Preprint) AAS 25-153\\nMASS-OPTIMAL LOW-THRUST...   \n",
       "\n",
       "                                            summary1  \\\n",
       "0  General attacks (Naihin et al., 2023; Ruan et ...   \n",
       "1  3. Recurrent Depth Architecture We propose a n...   \n",
       "2  2.2. Equivariant networks for other input type...   \n",
       "3  In particular, the extreme points of the TV-ba...   \n",
       "4  The solution to this problem is a trajectory t...   \n",
       "\n",
       "                                               story  \n",
       "0  In the bustling city of New York, there lived ...  \n",
       "1  In the charming town of Serendipity, lived a c...  \n",
       "2  Once upon a time in the bustling city of Neurv...  \n",
       "3  Once upon a time, in a small village nestled b...  \n",
       "4  In the heart of a bustling space station, Dr. ...  "
      ]
     },
     "execution_count": 1,
     "metadata": {},
     "output_type": "execute_result"
    }
   ],
   "source": [
    "\n",
    "import pandas as pd \n",
    "df = pd.read_parquet(\"./dataset.parquet\")\n",
    "df.head()"
   ]
  },
  {
   "cell_type": "code",
   "execution_count": 2,
   "id": "7b87e99d",
   "metadata": {},
   "outputs": [
    {
     "ename": "ModuleNotFoundError",
     "evalue": "No module named 'transformers'",
     "output_type": "error",
     "traceback": [
      "\u001b[0;31m---------------------------------------------------------------------------\u001b[0m",
      "\u001b[0;31mModuleNotFoundError\u001b[0m                       Traceback (most recent call last)",
      "Cell \u001b[0;32mIn[2], line 1\u001b[0m\n\u001b[0;32m----> 1\u001b[0m \u001b[38;5;28;01mimport\u001b[39;00m\u001b[38;5;250m \u001b[39m\u001b[38;5;21;01mtransformers\u001b[39;00m\n\u001b[1;32m      2\u001b[0m \u001b[38;5;28mprint\u001b[39m(transformers\u001b[38;5;241m.\u001b[39m__version__)\n",
      "\u001b[0;31mModuleNotFoundError\u001b[0m: No module named 'transformers'"
     ]
    }
   ],
   "source": [
    "import transformers\n",
    "print(transformers.__version__)"
   ]
  }
 ],
 "metadata": {
  "kernelspec": {
   "display_name": "Python 3",
   "language": "python",
   "name": "python3"
  },
  "language_info": {
   "codemirror_mode": {
    "name": "ipython",
    "version": 3
   },
   "file_extension": ".py",
   "mimetype": "text/x-python",
   "name": "python",
   "nbconvert_exporter": "python",
   "pygments_lexer": "ipython3",
   "version": "3.9.6"
  }
 },
 "nbformat": 4,
 "nbformat_minor": 5
}
